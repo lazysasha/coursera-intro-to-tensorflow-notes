{
 "cells": [
  {
   "cell_type": "markdown",
   "metadata": {
    "collapsed": true,
    "pycharm": {
     "name": "#%% md\n"
    }
   },
   "source": [
    "# Convolutions and pooling\n",
    "Convolution operation usually involves a filter that helps emphasizing certain features in the image, like vertical/horizontal lines.\n",
    "Pooling allows 'compressing' an image (e.g. from 16px to 4 px), for example picking the biggest value out of 4 pixels in a square (Max Pooling)\n",
    "\n",
    "In tensorflow:\n",
    "- tf.keras.layers.Conv2D\n",
    "- tf.keras.layers.MaxPool2D"
   ]
  },
  {
   "cell_type": "markdown",
   "source": [
    "Previous version (without convolution):\n",
    "```jupyterpython\n",
    "model = tf.keras.models.Sequential([\n",
    "    tf.keras.layers.Flatten(),\n",
    "    tf.keras.layers.Dense(128, activation=tf.nn.relu),\n",
    "    tf.keras.layers.Dense(10, activation=tf.nn.softmax)\n",
    "])\n",
    "```\n",
    "\n",
    "Version with convolution:\n",
    "```jupyterpython\n",
    "model = tf.keras.models.Sequential([\n",
    "    tf.keras.layers.Conv2D(64, (3,3), actrivation='relu', input_shape=(28, 28, 1)), # first convolution with 64 filters of size 3x3 on 28x28 image\n",
    "                                                                                    # filters are not random, TF will start a set of known good filter, will learn and pick ones that fit!\n",
    "    tf.keras.layers.MaxPooling2D(2, 2), # picks the max value out of 4 pixels in a 2x2 pool\n",
    "\n",
    "    # another set of conv+pool layer so that NN can learn another set of convolution on top of an existing one and then again reduce the size\n",
    "    tf.keras.layers.Conv2D(64, (3,3), actrivation='relu'),\n",
    "    tf.keras.layers.MaxPooling2D(2, 2),\n",
    "    #the content of the image is greatly simplified, the goal is to filter it to the features that determine the ooutput.\n",
    "\n",
    "\n",
    "    # last 3 lines are the same:\n",
    "    tf.keras.layers.Flatten(),\n",
    "    tf.keras.layers.Dense(128, activation=tf.nn.relu),\n",
    "    tf.keras.layers.Dense(10, activation=tf.nn.softmax)\n",
    "])\n",
    "```\n",
    "\n",
    "Useful method on a model that allows inspecting layers of the model and inspect the journey of the images in a convolution:\n",
    "```jupyterpython\n",
    "model.summary()\n",
    "```"
   ],
   "metadata": {
    "collapsed": false,
    "pycharm": {
     "name": "#%% md\n"
    }
   }
  },
  {
   "cell_type": "code",
   "source": [
    "\n",
    "\n",
    "\n"
   ],
   "metadata": {
    "collapsed": false,
    "pycharm": {
     "name": "#%%\n"
    }
   },
   "execution_count": null,
   "outputs": []
  }
 ],
 "metadata": {
  "kernelspec": {
   "display_name": "Python 3",
   "language": "python",
   "name": "python3"
  },
  "language_info": {
   "codemirror_mode": {
    "name": "ipython",
    "version": 2
   },
   "file_extension": ".py",
   "mimetype": "text/x-python",
   "name": "python",
   "nbconvert_exporter": "python",
   "pygments_lexer": "ipython2",
   "version": "2.7.6"
  }
 },
 "nbformat": 4,
 "nbformat_minor": 0
}