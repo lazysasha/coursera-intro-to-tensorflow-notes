{
 "cells": [
  {
   "cell_type": "code",
   "execution_count": null,
   "metadata": {
    "collapsed": true
   },
   "outputs": [],
   "source": []
  },
  {
   "cell_type": "markdown",
   "source": [
    "Rules + Data => Traditional Programming => Answers\n",
    "Answers + Data => Machine Learning => Rule"
   ],
   "metadata": {
    "collapsed": false
   }
  },
  {
   "cell_type": "markdown",
   "source": [
    "A simplest possible NN with a single neuron:\n",
    "```jupyterpython\n",
    "model = keras.Sequential([keras.layers.Dense(units=1, input_shape=[1])])\n",
    "```\n",
    "- `Dense` - defines a layer of connected neurons\n",
    "- `Sequential` - defines successive layers\n",
    "\n",
    "Define loss function and optimiser using `model.compile()`:\n",
    "```jupyterpython\n",
    "model.compile(optimiser='sgd', loss='mean_squared_error')\n",
    "```\n",
    "- `sgd` - Stochastic Gradient Descent\n",
    "\n",
    "Representing known data using `numpy`:\n",
    "```jupyterpython\n",
    "xs = np.array([-1.0, 0.0, 1.0, 2.0, 3.0, 4.0], dtype=float)\n",
    "ys = np.array([-3.0, -1.0, 1.0, 3.0, 5.0, 7.0], dtype=float)\n",
    "```\n",
    "\n",
    "Training the data using `model.fit(...)`:\n",
    "```jupyterpython\n",
    "model.fit(xs, ys, epochs=500) # go 500 times through a training loop\n",
    "```\n",
    "\n",
    "Getting back values using `predict()`:\n",
    "```jupyterpython\n",
    "print(model.predict([10.0]))\n",
    "```"
   ],
   "metadata": {
    "collapsed": false
   }
  },
  {
   "cell_type": "code",
   "execution_count": null,
   "outputs": [],
   "source": [],
   "metadata": {
    "collapsed": false,
    "pycharm": {
     "name": "#%%\n"
    }
   }
  }
 ],
 "metadata": {
  "kernelspec": {
   "display_name": "Python 3",
   "language": "python",
   "name": "python3"
  },
  "language_info": {
   "codemirror_mode": {
    "name": "ipython",
    "version": 2
   },
   "file_extension": ".py",
   "mimetype": "text/x-python",
   "name": "python",
   "nbconvert_exporter": "python",
   "pygments_lexer": "ipython2",
   "version": "2.7.6"
  }
 },
 "nbformat": 4,
 "nbformat_minor": 0
}